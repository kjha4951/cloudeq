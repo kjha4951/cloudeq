{
 "cells": [
  {
   "cell_type": "code",
   "execution_count": 23,
   "id": "92d0384f",
   "metadata": {},
   "outputs": [
    {
     "name": "stdout",
     "output_type": "stream",
     "text": [
      "1\n",
      "{1, 2, 3, 6, 10}\n"
     ]
    }
   ],
   "source": [
    "#set \n",
    "\n",
    "createset={3,6,1,6,3,2}\n",
    "\n",
    "print(list(createset)[0])\n",
    "#print(list(createset)[-1])\n",
    "#print(list(createset)[3])\n",
    "createset.add(10)\n",
    "#createset.remove(6)\n",
    "print(createset)\n"
   ]
  },
  {
   "cell_type": "code",
   "execution_count": 27,
   "id": "7808b95f",
   "metadata": {},
   "outputs": [
    {
     "name": "stdout",
     "output_type": "stream",
     "text": [
      "9\n"
     ]
    }
   ],
   "source": [
    "createset={9,7,5,3}\n",
    "x=list(createset)[0]\n",
    "print(x)"
   ]
  },
  {
   "cell_type": "markdown",
   "id": "be87ca5c",
   "metadata": {},
   "source": [
    "#  Remove element name from the set.\n",
    "Raises KeyError if name is not contained in the set.\n",
    "# discard element name from the set \n",
    "raises no keyError if name is not Present in the set"
   ]
  },
  {
   "cell_type": "code",
   "execution_count": 123,
   "id": "8f4084d1",
   "metadata": {},
   "outputs": [
    {
     "name": "stdout",
     "output_type": "stream",
     "text": [
      "{'puja', 'pallavi', 'renu'}\n",
      "{'pallavi', 'renu'}\n"
     ]
    }
   ],
   "source": [
    "name={\"komal\",\"pallavi\",\"renu\",\"puja\"}\n",
    "name.remove(\"komal\")\n",
    "name.discard(\"Moiza\")\n",
    "print(name)\n",
    "#name.pop()\n",
    "#print(name)"
   ]
  },
  {
   "cell_type": "markdown",
   "id": "3280c142",
   "metadata": {},
   "source": [
    "# Intersection_update\n",
    "this function will remove all the element which is not present int set1 and set2 both\n"
   ]
  },
  {
   "cell_type": "code",
   "execution_count": 57,
   "id": "335fa97a",
   "metadata": {},
   "outputs": [
    {
     "name": "stdout",
     "output_type": "stream",
     "text": [
      "{44, 23}\n"
     ]
    }
   ],
   "source": [
    "set1={22,44,55,23}\n",
    "set2={23,44,1,3,6}\n",
    "set1.intersection_update(set2)\n",
    "print(set1)\n"
   ]
  },
  {
   "cell_type": "markdown",
   "id": "7975928e",
   "metadata": {},
   "source": [
    "# Symmetric_difference_update\n",
    "This  Function will not print those element which is present in both set(set1 and set2) "
   ]
  },
  {
   "cell_type": "code",
   "execution_count": 80,
   "id": "923f10c2",
   "metadata": {},
   "outputs": [
    {
     "name": "stdout",
     "output_type": "stream",
     "text": [
      "{'seeyou', 'takecare', 'hii'}\n"
     ]
    }
   ],
   "source": [
    "set1={\"hello\",\"hii\",\"byee\"}\n",
    "set2={\"hello\",\"byee\",\"seeyou\",\"takecare\"}\n",
    "set1.symmetric_difference_update(set2)\n",
    "print(set1)\n",
    "#print(set2)"
   ]
  },
  {
   "cell_type": "markdown",
   "id": "d2e95f47",
   "metadata": {},
   "source": [
    "# Symmetric_difference()\n",
    "This function returns a new set which contains symmetric difference of two sets"
   ]
  },
  {
   "cell_type": "code",
   "execution_count": 81,
   "id": "dd68498d",
   "metadata": {},
   "outputs": [
    {
     "name": "stdout",
     "output_type": "stream",
     "text": [
      "{'seeyou', 'takecare', 'hii', 'whereyouare'}\n",
      "{'hii', 'hello', 'byee', 'whereyouare'}\n"
     ]
    }
   ],
   "source": [
    "set1={\"hello\",\"hii\",\"byee\",\"whereyouare\"}\n",
    "set2={\"hello\",\"byee\",\"seeyou\",\"takecare\"}\n",
    "set3=set1.symmetric_difference(set2)\n",
    "print(set3)\n",
    "print(set1)"
   ]
  },
  {
   "cell_type": "markdown",
   "id": "0705b17a",
   "metadata": {},
   "source": [
    "# dict()\n",
    "This function is use to create a dictionary which is Unorderd Changeable and Indexed"
   ]
  },
  {
   "cell_type": "code",
   "execution_count": 100,
   "id": "40813a00",
   "metadata": {},
   "outputs": [
    {
     "name": "stdout",
     "output_type": "stream",
     "text": [
      "{'name': 'komal', 'id': 23, 'role': 'ST'}\n",
      "komal\n"
     ]
    }
   ],
   "source": [
    "x=dict(name=\"komal\",id = 23,role=\"ST\")\n",
    "print(x)\n",
    "print(x[\"name\"])\n",
    "\n"
   ]
  },
  {
   "cell_type": "markdown",
   "id": "e137b03f",
   "metadata": {},
   "source": [
    "we can append the element on the tupel after converting it into an list"
   ]
  },
  {
   "cell_type": "code",
   "execution_count": 119,
   "id": "f0bea8b3",
   "metadata": {},
   "outputs": [
    {
     "name": "stdout",
     "output_type": "stream",
     "text": [
      "(1, 5, 3, 6, 8)\n",
      "<class 'tuple'>\n",
      "(1, 5, 3, 6, 8, 13)\n"
     ]
    }
   ],
   "source": [
    "tup1=(1,5,3,6,8)\n",
    "print(tup1)\n",
    "x=list(tup1)\n",
    "x.append(13)\n",
    "tup2=tuple(x)\n",
    "print(type(tup2))\n",
    "print(tup2)\n"
   ]
  },
  {
   "cell_type": "code",
   "execution_count": 130,
   "id": "443ca1da",
   "metadata": {},
   "outputs": [
    {
     "name": "stdout",
     "output_type": "stream",
     "text": [
      "[2, 5, 3, 1]\n",
      "[7, 9]\n"
     ]
    }
   ],
   "source": [
    "ls=[2,5,3,1,7,9]\n",
    "print(ls[:4])\n",
    "print(ls[4:])"
   ]
  },
  {
   "cell_type": "code",
   "execution_count": 150,
   "id": "7b2a5c63",
   "metadata": {},
   "outputs": [
    {
     "name": "stdout",
     "output_type": "stream",
     "text": [
      "[7, 9]\n"
     ]
    }
   ],
   "source": [
    "ls=[2,5,3,1,7,9]\n",
    "print(ls[4:6])"
   ]
  },
  {
   "cell_type": "code",
   "execution_count": 145,
   "id": "f3dcee1a",
   "metadata": {},
   "outputs": [
    {
     "name": "stdout",
     "output_type": "stream",
     "text": [
      "[3, 7, 10]\n"
     ]
    }
   ],
   "source": [
    "ls=[2,5,3,1,7,9,10,11,12]\n",
    "print(ls[2:7:2])"
   ]
  },
  {
   "cell_type": "code",
   "execution_count": 148,
   "id": "5d3602ba",
   "metadata": {},
   "outputs": [
    {
     "name": "stdout",
     "output_type": "stream",
     "text": [
      "[9, 10]\n"
     ]
    }
   ],
   "source": [
    "print(ls[-4:-2])"
   ]
  },
  {
   "cell_type": "code",
   "execution_count": 163,
   "id": "685459a4",
   "metadata": {},
   "outputs": [
    {
     "name": "stdout",
     "output_type": "stream",
     "text": [
      "[2, 5, 3, 1, 7, 9, 4]\n",
      "[2, 5, 3, 1, 7, 2, 9, 4]\n",
      "[2, 5, 3, 1, 7, 2, 9]\n"
     ]
    }
   ],
   "source": [
    "ls=[2,5,3,1,7,9]\n",
    "ls.append(4)\n",
    "print(ls)\n",
    "ls.insert(5,2)\n",
    "print(ls)\n",
    "ls.remove(4)\n",
    "print(ls)"
   ]
  },
  {
   "cell_type": "code",
   "execution_count": 1,
   "id": "2b67eb15",
   "metadata": {},
   "outputs": [
    {
     "name": "stdout",
     "output_type": "stream",
     "text": [
      "Byeee\n"
     ]
    }
   ],
   "source": [
    "x=10\n",
    "y=20\n",
    "if x<y:\n",
    "    print(\"Byeee\")\n",
    "else:\n",
    "    print(\"hello\")"
   ]
  }
 ],
 "metadata": {
  "kernelspec": {
   "display_name": "Python 3 (ipykernel)",
   "language": "python",
   "name": "python3"
  },
  "language_info": {
   "codemirror_mode": {
    "name": "ipython",
    "version": 3
   },
   "file_extension": ".py",
   "mimetype": "text/x-python",
   "name": "python",
   "nbconvert_exporter": "python",
   "pygments_lexer": "ipython3",
   "version": "3.11.2"
  }
 },
 "nbformat": 4,
 "nbformat_minor": 5
}
